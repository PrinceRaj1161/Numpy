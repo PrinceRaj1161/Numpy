{
  "nbformat": 4,
  "nbformat_minor": 0,
  "metadata": {
    "colab": {
      "provenance": [],
      "authorship_tag": "ABX9TyNcgxGlogDFAjTyjR1H5BXM",
      "include_colab_link": true
    },
    "kernelspec": {
      "name": "python3",
      "display_name": "Python 3"
    },
    "language_info": {
      "name": "python"
    }
  },
  "cells": [
    {
      "cell_type": "markdown",
      "metadata": {
        "id": "view-in-github",
        "colab_type": "text"
      },
      "source": [
        "<a href=\"https://colab.research.google.com/github/PrinceRaj1161/Numpy/blob/main/Numpy2.ipynb\" target=\"_parent\"><img src=\"https://colab.research.google.com/assets/colab-badge.svg\" alt=\"Open In Colab\"/></a>"
      ]
    },
    {
      "cell_type": "markdown",
      "source": [
        "# Indexing, Accessing Array Element"
      ],
      "metadata": {
        "id": "Fxi1eyu2ujH8"
      }
    },
    {
      "cell_type": "code",
      "source": [
        "# Indexing of 1-D array\n",
        "\n",
        "import numpy as np\n",
        "x = np.array([1,2,3,4,5])\n",
        "\n",
        "# Python have 0-based index\n",
        "print(x[0])\n",
        "print(x[1])\n",
        "print(x[2])\n",
        "print(x[3])\n",
        "print(x[4])"
      ],
      "metadata": {
        "colab": {
          "base_uri": "https://localhost:8080/"
        },
        "id": "SkaHigJfuohg",
        "outputId": "845b89da-bf22-4365-aabb-008308fb6958"
      },
      "execution_count": 17,
      "outputs": [
        {
          "output_type": "stream",
          "name": "stdout",
          "text": [
            "1\n",
            "2\n",
            "3\n",
            "4\n",
            "5\n"
          ]
        }
      ]
    },
    {
      "cell_type": "code",
      "source": [
        "# Indexing of 2-D array\n",
        "\n",
        "import numpy as np\n",
        "x = np.array([[1,2,3],[4,5,6]])\n",
        "\n",
        "print(x[0,2])\n",
        "print(x[1,1])\n"
      ],
      "metadata": {
        "colab": {
          "base_uri": "https://localhost:8080/"
        },
        "id": "lQshOAa44K0r",
        "outputId": "a3c17ded-4038-4ab3-b351-5b070e3ec371"
      },
      "execution_count": 18,
      "outputs": [
        {
          "output_type": "stream",
          "name": "stdout",
          "text": [
            "3\n",
            "5\n"
          ]
        }
      ]
    },
    {
      "cell_type": "code",
      "source": [
        "# Indexing of 3-D array\n",
        "\n",
        "import numpy as np\n",
        "x = np.array([[[1,2,3],[4,5,6]],[[7,8,9],[10,11,12]]])\n",
        "\n",
        "print(x[0,1,1])\n",
        "print(x[1,0,2])\n",
        "print(x[1,1,0])"
      ],
      "metadata": {
        "colab": {
          "base_uri": "https://localhost:8080/"
        },
        "id": "IqVgftPL6F2q",
        "outputId": "8913ade0-40d1-4e0a-8a02-33138bb3d613"
      },
      "execution_count": 19,
      "outputs": [
        {
          "output_type": "stream",
          "name": "stdout",
          "text": [
            "5\n",
            "9\n",
            "10\n"
          ]
        }
      ]
    },
    {
      "cell_type": "code",
      "source": [],
      "metadata": {
        "id": "w7bE6MM46uxf"
      },
      "execution_count": null,
      "outputs": []
    }
  ]
}