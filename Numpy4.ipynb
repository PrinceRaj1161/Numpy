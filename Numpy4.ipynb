{
  "nbformat": 4,
  "nbformat_minor": 0,
  "metadata": {
    "colab": {
      "provenance": [],
      "authorship_tag": "ABX9TyPl+oXoxX0JKuWytWMr0xDp",
      "include_colab_link": true
    },
    "kernelspec": {
      "name": "python3",
      "display_name": "Python 3"
    },
    "language_info": {
      "name": "python"
    }
  },
  "cells": [
    {
      "cell_type": "markdown",
      "metadata": {
        "id": "view-in-github",
        "colab_type": "text"
      },
      "source": [
        "<a href=\"https://colab.research.google.com/github/PrinceRaj1161/Numpy/blob/main/Numpy4.ipynb\" target=\"_parent\"><img src=\"https://colab.research.google.com/assets/colab-badge.svg\" alt=\"Open In Colab\"/></a>"
      ]
    },
    {
      "cell_type": "markdown",
      "source": [
        "# Numpy Datatypes"
      ],
      "metadata": {
        "id": "JNUrKSaCW4RY"
      }
    },
    {
      "cell_type": "code",
      "source": [
        "# Data types in numpy\n",
        "\n",
        "# i for integer\n",
        "# b for boolean\n",
        "# u for unsigned integer\n",
        "# f for float\n",
        "# c for complex float\n",
        "# m for timedelta\n",
        "# M for datetime\n",
        "# O for object\n",
        "# S for string\n",
        "# U for Unicode string\n",
        "# V - memory\n",
        "\n",
        "\n",
        "# Topics\n",
        "# Use of dtype\n",
        "# Creating array with defined datatype\n",
        "# Create dtype of i4\n",
        "# Use of astype()"
      ],
      "metadata": {
        "id": "VeMxyTweXAUY"
      },
      "execution_count": 10,
      "outputs": []
    },
    {
      "cell_type": "code",
      "source": [
        "# Use of dtypes\n",
        "\n",
        "import numpy as np\n",
        "x = np.array([1,2,3,4,5])\n",
        "print(x,x.dtype)\n",
        "\n",
        "x = np.array([1.2,1.3,1.2])\n",
        "print(x,x.dtype)\n",
        "\n",
        "x = np.array([True,False,True])\n",
        "print(x,x.dtype)\n",
        "\n",
        "x = np.array([\"One\",\"Two\",\"Three\"])\n",
        "print(x,x.dtype)"
      ],
      "metadata": {
        "colab": {
          "base_uri": "https://localhost:8080/"
        },
        "id": "9Aid57kdauoV",
        "outputId": "7aaf42ee-0574-4e05-8695-535daad6de6e"
      },
      "execution_count": 11,
      "outputs": [
        {
          "output_type": "stream",
          "name": "stdout",
          "text": [
            "[1 2 3 4 5] int64\n",
            "[1.2 1.3 1.2] float64\n",
            "[ True False  True] bool\n",
            "['One' 'Two' 'Three'] <U5\n"
          ]
        }
      ]
    },
    {
      "cell_type": "code",
      "source": [
        "# Creating array with defined datatypes\n",
        "\n",
        "import numpy as np\n",
        "x = np.array([1.2,2.3,6.7],dtype='i')\n",
        "print(x,x.dtype)\n",
        "\n",
        "x = np.array([6,7,0,0,1],dtype=bool)\n",
        "print(x,x.dtype)"
      ],
      "metadata": {
        "colab": {
          "base_uri": "https://localhost:8080/"
        },
        "id": "A0uJjcctbYId",
        "outputId": "454dd9e4-acae-4fa7-8459-e82701baa8bb"
      },
      "execution_count": 17,
      "outputs": [
        {
          "output_type": "stream",
          "name": "stdout",
          "text": [
            "[1 2 6] int32\n",
            "[ True  True False False  True] bool\n"
          ]
        }
      ]
    },
    {
      "cell_type": "code",
      "source": [
        "# Use of astype\n",
        "\n",
        "import numpy as np\n",
        "x = np.array([1.23,1.73,8.27,91.272])\n",
        "x = x.astype(\"i4\")\n",
        "print(x,x.dtype)\n",
        "\n"
      ],
      "metadata": {
        "colab": {
          "base_uri": "https://localhost:8080/"
        },
        "id": "tlb4Rtw8c5-a",
        "outputId": "f70032d6-4857-4396-eaf9-8bacdec6ee4b"
      },
      "execution_count": 18,
      "outputs": [
        {
          "output_type": "stream",
          "name": "stdout",
          "text": [
            "[ 1  1  8 91] int32\n"
          ]
        }
      ]
    }
  ]
}