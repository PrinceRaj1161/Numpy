{
  "nbformat": 4,
  "nbformat_minor": 0,
  "metadata": {
    "colab": {
      "provenance": [],
      "authorship_tag": "ABX9TyMr9CoKDhLD5d8hfeIgc43e",
      "include_colab_link": true
    },
    "kernelspec": {
      "name": "python3",
      "display_name": "Python 3"
    },
    "language_info": {
      "name": "python"
    }
  },
  "cells": [
    {
      "cell_type": "markdown",
      "metadata": {
        "id": "view-in-github",
        "colab_type": "text"
      },
      "source": [
        "<a href=\"https://colab.research.google.com/github/PrinceRaj1161/Numpy/blob/main/Numpy1.ipynb\" target=\"_parent\"><img src=\"https://colab.research.google.com/assets/colab-badge.svg\" alt=\"Open In Colab\"/></a>"
      ]
    },
    {
      "cell_type": "code",
      "source": [
        "# Numpy\n",
        "\n",
        "#To know the version we would use __version__\n",
        "\n",
        "import numpy as np\n",
        "print(np.__version__)"
      ],
      "metadata": {
        "colab": {
          "base_uri": "https://localhost:8080/"
        },
        "id": "7NNQ4Nl5rns0",
        "outputId": "8498f027-79ba-45d8-aa25-086588dc5757"
      },
      "execution_count": null,
      "outputs": [
        {
          "output_type": "stream",
          "name": "stdout",
          "text": [
            "1.25.2\n"
          ]
        }
      ]
    },
    {
      "cell_type": "markdown",
      "source": [
        "# Creating Arrays using numpy"
      ],
      "metadata": {
        "id": "PbCmjEi-5AuJ"
      }
    },
    {
      "cell_type": "code",
      "source": [
        "import numpy as np\n",
        "print(np.__version__)"
      ],
      "metadata": {
        "id": "onPAGkAt5D6z",
        "colab": {
          "base_uri": "https://localhost:8080/"
        },
        "outputId": "82cb3778-921d-49da-cf79-d9c575389d31"
      },
      "execution_count": 1,
      "outputs": [
        {
          "output_type": "stream",
          "name": "stdout",
          "text": [
            "1.25.2\n"
          ]
        }
      ]
    },
    {
      "cell_type": "code",
      "source": [
        "# Create 1D array\n",
        "x = np.array([1,2,3,4,5])\n",
        "print(x)\n",
        "print(type(x))"
      ],
      "metadata": {
        "colab": {
          "base_uri": "https://localhost:8080/"
        },
        "id": "RGwa0G1lhO-1",
        "outputId": "84db85ff-ce5b-4d60-bea6-cf9fc55a5a73"
      },
      "execution_count": 2,
      "outputs": [
        {
          "output_type": "stream",
          "name": "stdout",
          "text": [
            "[1 2 3 4 5]\n",
            "<class 'numpy.ndarray'>\n"
          ]
        }
      ]
    },
    {
      "cell_type": "code",
      "source": [
        "# We can also pass a list,tuple, or any array like object with array()\n",
        "import numpy as np\n",
        "list1 = [1,2,3,4,5,6]\n",
        "tuple1 = (1,2,3,4,5)\n",
        "\n",
        "x1 = np.array(list1)\n",
        "x2 = np.array(tuple1)\n",
        "\n",
        "print(x1,type(x1))\n",
        "print(x2,type(x2))"
      ],
      "metadata": {
        "colab": {
          "base_uri": "https://localhost:8080/"
        },
        "id": "nrbYFmZ9hi4I",
        "outputId": "d97bfa23-c9e1-47fd-c4a8-bf51426bdb25"
      },
      "execution_count": 3,
      "outputs": [
        {
          "output_type": "stream",
          "name": "stdout",
          "text": [
            "[1 2 3 4 5 6] <class 'numpy.ndarray'>\n",
            "[1 2 3 4 5] <class 'numpy.ndarray'>\n"
          ]
        }
      ]
    },
    {
      "cell_type": "code",
      "source": [
        "# Dimensions in Arrays - a dimension in arrays is one level of\n",
        "# array is one level of array depth(nested array)\n",
        "\n",
        "# 0-D Arrays - scalers are the elements in an array, each value in an array is a 0D\n",
        "\n",
        "#Example of 0-D array\n",
        "import numpy as np\n",
        "x = np.array(42)\n",
        "print(x,type(x))"
      ],
      "metadata": {
        "colab": {
          "base_uri": "https://localhost:8080/"
        },
        "id": "LAbBjulWiWCw",
        "outputId": "7a233037-b1ae-44cf-9d14-6a4168453658"
      },
      "execution_count": 7,
      "outputs": [
        {
          "output_type": "stream",
          "name": "stdout",
          "text": [
            "42 <class 'numpy.ndarray'>\n"
          ]
        }
      ]
    },
    {
      "cell_type": "code",
      "source": [
        "# 1-D Arrays - an array that has 0-D arrays as it's element is called uni-directional or 1-D\n",
        "\n",
        "import numpy as np\n",
        "x = np.array([1,2,3,4,5])\n",
        "print(x,type(x))"
      ],
      "metadata": {
        "colab": {
          "base_uri": "https://localhost:8080/"
        },
        "id": "_tasdWU4kCgp",
        "outputId": "ee19f884-16a1-41a6-8977-08cc26c6d3be"
      },
      "execution_count": 8,
      "outputs": [
        {
          "output_type": "stream",
          "name": "stdout",
          "text": [
            "[1 2 3 4 5] <class 'numpy.ndarray'>\n"
          ]
        }
      ]
    },
    {
      "cell_type": "code",
      "source": [
        "# 2-D arrays - an array that has 1-D arrays as it's element is called 2-D arrays.\n",
        "\n",
        "import numpy as np\n",
        "x = np.array([[1,2,4],[5,6,7]])\n",
        "print(x,type(x))"
      ],
      "metadata": {
        "colab": {
          "base_uri": "https://localhost:8080/"
        },
        "id": "p7N7EuIUnmFR",
        "outputId": "d78bbfae-e769-4d81-fd12-6627114c8370"
      },
      "execution_count": 10,
      "outputs": [
        {
          "output_type": "stream",
          "name": "stdout",
          "text": [
            "[[1 2 4]\n",
            " [5 6 7]] <class 'numpy.ndarray'>\n"
          ]
        }
      ]
    },
    {
      "cell_type": "code",
      "source": [
        "# 3-D arrays - an array that has 2-D arrays as it's element is called 3-D arrays\n",
        "\n",
        "import numpy as np\n",
        "x = np.array([[[1,2,3],[3,4,5]],[[6,7,8],[10,11,23]]])\n",
        "print(x,type(x))"
      ],
      "metadata": {
        "colab": {
          "base_uri": "https://localhost:8080/"
        },
        "id": "UOQ-jKj7n8sH",
        "outputId": "d3a36dcb-2765-447e-c84f-977e780d98af"
      },
      "execution_count": 11,
      "outputs": [
        {
          "output_type": "stream",
          "name": "stdout",
          "text": [
            "[[[ 1  2  3]\n",
            "  [ 3  4  5]]\n",
            "\n",
            " [[ 6  7  8]\n",
            "  [10 11 23]]] <class 'numpy.ndarray'>\n"
          ]
        }
      ]
    },
    {
      "cell_type": "code",
      "source": [
        "# ndim :- It is used to know dimension of the array\n",
        "\n",
        "import numpy as np\n",
        "a = np.array(42)\n",
        "b = np.array([1,2,3,4,5])\n",
        "c = np.array([[1,2,4],[5,6,7]])\n",
        "d = np.array([[[1,2,3],[3,4,5]],[[6,7,8],[10,11,23]]])\n",
        "\n",
        "print(a.ndim)\n",
        "print(b.ndim)\n",
        "print(c.ndim)\n",
        "print(d.ndim)"
      ],
      "metadata": {
        "colab": {
          "base_uri": "https://localhost:8080/"
        },
        "id": "Q1bf7DbdpWku",
        "outputId": "28a4999e-0a26-4748-ac3b-1738fb944658"
      },
      "execution_count": 14,
      "outputs": [
        {
          "output_type": "stream",
          "name": "stdout",
          "text": [
            "0\n",
            "1\n",
            "2\n",
            "3\n"
          ]
        }
      ]
    },
    {
      "cell_type": "code",
      "source": [
        "# Creating 5-D array using ndmin\n",
        "\n",
        "import numpy as np\n",
        "a = [1,2,3,4,5]\n",
        "a = np.array(a,ndmin=5)\n",
        "print(a)\n",
        "print(a.ndim)"
      ],
      "metadata": {
        "colab": {
          "base_uri": "https://localhost:8080/"
        },
        "id": "v_y9PP5lsD5D",
        "outputId": "c7d16a19-105f-43d7-a4c0-39db1ced41c7"
      },
      "execution_count": 15,
      "outputs": [
        {
          "output_type": "stream",
          "name": "stdout",
          "text": [
            "[[[[[1 2 3 4 5]]]]]\n",
            "5\n"
          ]
        }
      ]
    }
  ]
}