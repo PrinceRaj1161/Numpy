{
  "nbformat": 4,
  "nbformat_minor": 0,
  "metadata": {
    "colab": {
      "provenance": [],
      "authorship_tag": "ABX9TyNCn0H/6tBuJJrqDquDDWNi",
      "include_colab_link": true
    },
    "kernelspec": {
      "name": "python3",
      "display_name": "Python 3"
    },
    "language_info": {
      "name": "python"
    }
  },
  "cells": [
    {
      "cell_type": "markdown",
      "metadata": {
        "id": "view-in-github",
        "colab_type": "text"
      },
      "source": [
        "<a href=\"https://colab.research.google.com/github/PrinceRaj1161/Numpy/blob/main/Numpy5.ipynb\" target=\"_parent\"><img src=\"https://colab.research.google.com/assets/colab-badge.svg\" alt=\"Open In Colab\"/></a>"
      ]
    },
    {
      "cell_type": "markdown",
      "source": [
        "# View and Copy of an array"
      ],
      "metadata": {
        "id": "mMYlyhpneOzW"
      }
    },
    {
      "cell_type": "code",
      "source": [
        "# View and copy are used to copy numpy array\n",
        "\n",
        "import numpy as np\n",
        "\n",
        "x = np.array([1,2,4,5,7])\n",
        "y = x.copy()\n",
        "\n",
        "x[0]=89\n",
        "\n",
        "print(x)\n",
        "print(y)\n",
        "\n",
        "# Changes won't be shown"
      ],
      "metadata": {
        "colab": {
          "base_uri": "https://localhost:8080/"
        },
        "id": "rBo1xk7HeVlU",
        "outputId": "6dfa1675-9e20-44b6-893a-0c8415062c43"
      },
      "execution_count": 19,
      "outputs": [
        {
          "output_type": "stream",
          "name": "stdout",
          "text": [
            "[89  2  4  5  7]\n",
            "[1 2 4 5 7]\n"
          ]
        }
      ]
    },
    {
      "cell_type": "code",
      "source": [
        "import numpy as np\n",
        "\n",
        "x = np.array([1,2,3,4,6])\n",
        "y=x.view()\n",
        "\n",
        "x[0]=37\n",
        "\n",
        "print(x)\n",
        "print(y)\n",
        "\n",
        "# Changes would be shown"
      ],
      "metadata": {
        "colab": {
          "base_uri": "https://localhost:8080/"
        },
        "id": "Ve0RetAxfFD0",
        "outputId": "50e69d36-ea6c-440d-bea4-1558b6ea9373"
      },
      "execution_count": 20,
      "outputs": [
        {
          "output_type": "stream",
          "name": "stdout",
          "text": [
            "[37  2  3  4  6]\n",
            "[37  2  3  4  6]\n"
          ]
        }
      ]
    }
  ]
}