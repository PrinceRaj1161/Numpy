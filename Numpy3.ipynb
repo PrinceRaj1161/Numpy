{
  "nbformat": 4,
  "nbformat_minor": 0,
  "metadata": {
    "colab": {
      "provenance": [],
      "authorship_tag": "ABX9TyPx6CGyBAjEbmF0siKwuR9g",
      "include_colab_link": true
    },
    "kernelspec": {
      "name": "python3",
      "display_name": "Python 3"
    },
    "language_info": {
      "name": "python"
    }
  },
  "cells": [
    {
      "cell_type": "markdown",
      "metadata": {
        "id": "view-in-github",
        "colab_type": "text"
      },
      "source": [
        "<a href=\"https://colab.research.google.com/github/PrinceRaj1161/Numpy/blob/main/Numpy3.ipynb\" target=\"_parent\"><img src=\"https://colab.research.google.com/assets/colab-badge.svg\" alt=\"Open In Colab\"/></a>"
      ]
    },
    {
      "cell_type": "markdown",
      "source": [
        "# Slicing of the Array"
      ],
      "metadata": {
        "id": "O-JK7aIJUDJ1"
      }
    },
    {
      "cell_type": "code",
      "source": [
        "# Calling numpy for all cases\n",
        "import numpy as np"
      ],
      "metadata": {
        "id": "trAbBdQHUFTg"
      },
      "execution_count": 1,
      "outputs": []
    },
    {
      "cell_type": "code",
      "source": [
        "# Slicing through 1-D array\n",
        "\n",
        "x = np.array([1,2,3,4,5,6])\n",
        "\n",
        "# There are two ways for slicing.\n",
        "# With steps\n",
        "# Without steps\n",
        "\n",
        "#Without steps\n",
        "\n",
        "print(x[1:5])\n",
        "\n",
        "#Negative indexing\n",
        "print(x[-3:-1])\n",
        "\n",
        "# With steps\n",
        "print(x[::2])"
      ],
      "metadata": {
        "colab": {
          "base_uri": "https://localhost:8080/"
        },
        "id": "TCe6Bj1HUMU0",
        "outputId": "d1b4c2ba-c2ee-4b47-c82e-4a5edf10618c"
      },
      "execution_count": 2,
      "outputs": [
        {
          "output_type": "stream",
          "name": "stdout",
          "text": [
            "[2 3 4 5]\n",
            "[4 5]\n",
            "[1 3 5]\n"
          ]
        }
      ]
    },
    {
      "cell_type": "code",
      "source": [
        "x = np.array([1,2,3,4,5,6,7,8,9,10,11,12,13,14,15])\n",
        "print(x[::2])\n",
        "print(x[3:8:2])"
      ],
      "metadata": {
        "colab": {
          "base_uri": "https://localhost:8080/"
        },
        "id": "D0qPuW9HVKtG",
        "outputId": "104b4d1b-dceb-4d9e-ad4d-b6ef0515be90"
      },
      "execution_count": 3,
      "outputs": [
        {
          "output_type": "stream",
          "name": "stdout",
          "text": [
            "[ 1  3  5  7  9 11 13 15]\n",
            "[4 6 8]\n"
          ]
        }
      ]
    },
    {
      "cell_type": "code",
      "source": [
        "# Slicing in 2-D array\n",
        "x = np.array([[1,2,3,4],[5,6,7,8],[9,10,11,12],[13,14,15,16]])\n",
        "print(x)\n",
        "\n"
      ],
      "metadata": {
        "colab": {
          "base_uri": "https://localhost:8080/"
        },
        "id": "HeQeYYXFVYya",
        "outputId": "f56d0578-0fa4-488a-88ce-cfa8e5048d4f"
      },
      "execution_count": 7,
      "outputs": [
        {
          "output_type": "stream",
          "name": "stdout",
          "text": [
            "[[ 1  2  3  4]\n",
            " [ 5  6  7  8]\n",
            " [ 9 10 11 12]\n",
            " [13 14 15 16]]\n"
          ]
        }
      ]
    },
    {
      "cell_type": "code",
      "source": [
        "# Suppose we want to print\n",
        "\n",
        "#  6  7  8\n",
        "# 10 11 12\n",
        "# 14 15 16\n",
        "\n",
        "# First we take rows and then we go to columns\n",
        "\n",
        "print(x[1:4,1:4])"
      ],
      "metadata": {
        "colab": {
          "base_uri": "https://localhost:8080/"
        },
        "id": "D7Q97kQ0V1QM",
        "outputId": "5e831391-e051-4a76-da10-f7f12b9ed3d2"
      },
      "execution_count": 9,
      "outputs": [
        {
          "output_type": "stream",
          "name": "stdout",
          "text": [
            "[[ 6  7  8]\n",
            " [10 11 12]\n",
            " [14 15 16]]\n"
          ]
        }
      ]
    }
  ]
}